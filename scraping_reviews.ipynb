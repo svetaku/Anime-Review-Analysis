{
 "cells": [
  {
   "cell_type": "code",
   "execution_count": 1,
   "metadata": {},
   "outputs": [],
   "source": [
    "import requests as rq\n",
    "import pandas as pd\n",
    "\n",
    "from bs4 import BeautifulSoup"
   ]
  },
  {
   "cell_type": "code",
   "execution_count": 2,
   "metadata": {},
   "outputs": [],
   "source": [
    "all_reviews_dict = {}"
   ]
  },
  {
   "cell_type": "code",
   "execution_count": 4,
   "metadata": {},
   "outputs": [
    {
     "name": "stdout",
     "output_type": "stream",
     "text": [
      "200\n"
     ]
    }
   ],
   "source": [
    "url = 'https://myanimelist.net/reviews.php?t=anime&filter_check=&filter_hide=&preliminary=on&spoiler=on&p=1'\n",
    "headers = {\n",
    "    'user-agent': 'Mozilla/5.0 (Windows NT 10.0; Win64; x64) AppleWebKit/537.36 (KHTML, like Gecko) Chrome/119.0.0.0 Safari/537.36',\n",
    "}\n",
    "page = rq.get(url, headers=headers)\n",
    "print(page.status_code)"
   ]
  },
  {
   "cell_type": "code",
   "execution_count": null,
   "metadata": {},
   "outputs": [],
   "source": [
    "url_nopage = 'https://myanimelist.net/reviews.php?t=anime&filter_check=&filter_hide=&preliminary=on&spoiler=on&p='\n",
    "page_num = 0\n",
    "url = url_nopage + str(page_num)\n",
    "page = rq.get(url, headers=headers)\n",
    "review_dict = {}\n",
    "\n",
    "while page.status_code == 200:\n",
    "    # print(url)\n",
    "    soup = BeautifulSoup(page.text, 'html.parser')\n",
    "    for item in soup.find_all(attrs={\"class\": \"review-element js-review-element\"}):\n",
    "        try:\n",
    "            title = item(attrs={\"class\": \"title ga-click\"})[0].get_text()\n",
    "            tag = item(attrs={\"class\": \"tags\"})[0].get_text()\n",
    "            review = item(attrs={\"class\": \"text\"})[0].get_text()\n",
    "            rating = item(attrs={\"class\": \"num\"})[0].get_text()\n",
    "            review_dict[review] = (title, tag, rating)\n",
    "        except:\n",
    "            continue\n",
    "    page_num +=1\n",
    "    url = url_nopage + str(page_num)\n",
    "    page = rq.get(url, headers=headers)"
   ]
  },
  {
   "cell_type": "code",
   "execution_count": 6,
   "metadata": {},
   "outputs": [],
   "source": [
    "all_reviews_dict.update(review_dict)"
   ]
  },
  {
   "cell_type": "code",
   "execution_count": 7,
   "metadata": {},
   "outputs": [
    {
     "data": {
      "text/plain": [
       "242143"
      ]
     },
     "execution_count": 7,
     "metadata": {},
     "output_type": "execute_result"
    }
   ],
   "source": [
    "len(list(all_reviews_dict.items()))"
   ]
  },
  {
   "cell_type": "code",
   "execution_count": 12,
   "metadata": {},
   "outputs": [],
   "source": [
    "# import pickle\n",
    "\n",
    "# with open('all_reviews_dict.pkl', 'wb') as f:\n",
    "#     pickle.dump(all_reviews_dict, f)"
   ]
  },
  {
   "cell_type": "code",
   "execution_count": 2,
   "metadata": {},
   "outputs": [],
   "source": [
    "import pickle\n",
    "\n",
    "with open('all_reviews_dict.pkl', 'rb') as f:\n",
    "    all_reviews_dict = pickle.load(f)"
   ]
  },
  {
   "cell_type": "code",
   "execution_count": 9,
   "metadata": {},
   "outputs": [
    {
     "data": {
      "text/html": [
       "<div>\n",
       "<style scoped>\n",
       "    .dataframe tbody tr th:only-of-type {\n",
       "        vertical-align: middle;\n",
       "    }\n",
       "\n",
       "    .dataframe tbody tr th {\n",
       "        vertical-align: top;\n",
       "    }\n",
       "\n",
       "    .dataframe thead th {\n",
       "        text-align: right;\n",
       "    }\n",
       "</style>\n",
       "<table border=\"1\" class=\"dataframe\">\n",
       "  <thead>\n",
       "    <tr style=\"text-align: right;\">\n",
       "      <th></th>\n",
       "      <th>review</th>\n",
       "      <th>title</th>\n",
       "      <th>tag</th>\n",
       "      <th>rating</th>\n",
       "    </tr>\n",
       "  </thead>\n",
       "  <tbody>\n",
       "    <tr>\n",
       "      <th>0</th>\n",
       "      <td>\\n\\n\\n\\n\\n\\n                Cringe \"comedy\" in...</td>\n",
       "      <td>Amagi Brilliant Park</td>\n",
       "      <td>Not RecommendedPreliminary\\n                \\n...</td>\n",
       "      <td>2</td>\n",
       "    </tr>\n",
       "    <tr>\n",
       "      <th>1</th>\n",
       "      <td>\\n\\n\\n\\n\\n\\n                So this is the thi...</td>\n",
       "      <td>Higeki no Genkyou to Naru Saikyou Gedou Last B...</td>\n",
       "      <td>Mixed Feelings</td>\n",
       "      <td>5</td>\n",
       "    </tr>\n",
       "    <tr>\n",
       "      <th>2</th>\n",
       "      <td>\\n\\n\\n\\n\\n\\n                The show is depres...</td>\n",
       "      <td>Sousou no Frieren</td>\n",
       "      <td>RecommendedPreliminary\\n                \\n    ...</td>\n",
       "      <td>9</td>\n",
       "    </tr>\n",
       "    <tr>\n",
       "      <th>3</th>\n",
       "      <td>\\n\\n\\n\\n\\n\\n                Ugly CGI, bland vi...</td>\n",
       "      <td>Kimetsu no Yaiba</td>\n",
       "      <td>Not Recommended</td>\n",
       "      <td>3</td>\n",
       "    </tr>\n",
       "    <tr>\n",
       "      <th>4</th>\n",
       "      <td>\\n\\n\\n\\n\\n\\n                Boring. Cliche. La...</td>\n",
       "      <td>Ousama Ranking</td>\n",
       "      <td>Not Recommended</td>\n",
       "      <td>2</td>\n",
       "    </tr>\n",
       "    <tr>\n",
       "      <th>...</th>\n",
       "      <td>...</td>\n",
       "      <td>...</td>\n",
       "      <td>...</td>\n",
       "      <td>...</td>\n",
       "    </tr>\n",
       "    <tr>\n",
       "      <th>242138</th>\n",
       "      <td>\\n\\n\\n\\n\\n\\n                A comedy/romance b...</td>\n",
       "      <td>Ranma ½</td>\n",
       "      <td>Recommended</td>\n",
       "      <td>7</td>\n",
       "    </tr>\n",
       "    <tr>\n",
       "      <th>242139</th>\n",
       "      <td>\\n\\n\\n\\n\\n\\n                Saiyuki is one of ...</td>\n",
       "      <td>Gensoumaden Saiyuuki</td>\n",
       "      <td>Recommended</td>\n",
       "      <td>9</td>\n",
       "    </tr>\n",
       "    <tr>\n",
       "      <th>242140</th>\n",
       "      <td>\\n\\n\\n\\n\\n\\n                First, let me say ...</td>\n",
       "      <td>Hajime no Ippo</td>\n",
       "      <td>Recommended</td>\n",
       "      <td>10</td>\n",
       "    </tr>\n",
       "    <tr>\n",
       "      <th>242141</th>\n",
       "      <td>\\n\\n\\n\\n\\n\\n                Utawarerumono mana...</td>\n",
       "      <td>Utawarerumono</td>\n",
       "      <td>Recommended</td>\n",
       "      <td>8</td>\n",
       "    </tr>\n",
       "    <tr>\n",
       "      <th>242142</th>\n",
       "      <td>\\n\\n\\n\\n\\n\\n                Cowboy Bebop is an...</td>\n",
       "      <td>Cowboy Bebop</td>\n",
       "      <td>Recommended</td>\n",
       "      <td>10</td>\n",
       "    </tr>\n",
       "  </tbody>\n",
       "</table>\n",
       "<p>242143 rows × 4 columns</p>\n",
       "</div>"
      ],
      "text/plain": [
       "                                                   review  \\\n",
       "0       \\n\\n\\n\\n\\n\\n                Cringe \"comedy\" in...   \n",
       "1       \\n\\n\\n\\n\\n\\n                So this is the thi...   \n",
       "2       \\n\\n\\n\\n\\n\\n                The show is depres...   \n",
       "3       \\n\\n\\n\\n\\n\\n                Ugly CGI, bland vi...   \n",
       "4       \\n\\n\\n\\n\\n\\n                Boring. Cliche. La...   \n",
       "...                                                   ...   \n",
       "242138  \\n\\n\\n\\n\\n\\n                A comedy/romance b...   \n",
       "242139  \\n\\n\\n\\n\\n\\n                Saiyuki is one of ...   \n",
       "242140  \\n\\n\\n\\n\\n\\n                First, let me say ...   \n",
       "242141  \\n\\n\\n\\n\\n\\n                Utawarerumono mana...   \n",
       "242142  \\n\\n\\n\\n\\n\\n                Cowboy Bebop is an...   \n",
       "\n",
       "                                                    title  \\\n",
       "0                                    Amagi Brilliant Park   \n",
       "1       Higeki no Genkyou to Naru Saikyou Gedou Last B...   \n",
       "2                                       Sousou no Frieren   \n",
       "3                                        Kimetsu no Yaiba   \n",
       "4                                          Ousama Ranking   \n",
       "...                                                   ...   \n",
       "242138                                            Ranma ½   \n",
       "242139                               Gensoumaden Saiyuuki   \n",
       "242140                                     Hajime no Ippo   \n",
       "242141                                      Utawarerumono   \n",
       "242142                                       Cowboy Bebop   \n",
       "\n",
       "                                                      tag rating  \n",
       "0       Not RecommendedPreliminary\\n                \\n...      2  \n",
       "1                                          Mixed Feelings      5  \n",
       "2       RecommendedPreliminary\\n                \\n    ...      9  \n",
       "3                                         Not Recommended      3  \n",
       "4                                         Not Recommended      2  \n",
       "...                                                   ...    ...  \n",
       "242138                                        Recommended      7  \n",
       "242139                                        Recommended      9  \n",
       "242140                                        Recommended     10  \n",
       "242141                                        Recommended      8  \n",
       "242142                                        Recommended     10  \n",
       "\n",
       "[242143 rows x 4 columns]"
      ]
     },
     "execution_count": 9,
     "metadata": {},
     "output_type": "execute_result"
    }
   ],
   "source": [
    "df = pd.DataFrame(list(all_reviews_dict.values()), columns=['title', 'tag', 'rating'], index = list(all_reviews_dict.keys()))\n",
    "df.reset_index(inplace=True)\n",
    "df.rename(columns={'index': 'review'}, inplace=True)\n",
    "df"
   ]
  },
  {
   "cell_type": "code",
   "execution_count": 11,
   "metadata": {},
   "outputs": [],
   "source": [
    "df.to_csv('reviews.csv', sep=';', encoding='utf-8')"
   ]
  }
 ],
 "metadata": {
  "kernelspec": {
   "display_name": "Python 3.10.7 64-bit",
   "language": "python",
   "name": "python3"
  },
  "language_info": {
   "codemirror_mode": {
    "name": "ipython",
    "version": 3
   },
   "file_extension": ".py",
   "mimetype": "text/x-python",
   "name": "python",
   "nbconvert_exporter": "python",
   "pygments_lexer": "ipython3",
   "version": "3.10.7"
  },
  "orig_nbformat": 4,
  "vscode": {
   "interpreter": {
    "hash": "7689412e40d153df371c268745fbcdfa09ac06b8c7b45a25c8e6d10f76c0e4f2"
   }
  }
 },
 "nbformat": 4,
 "nbformat_minor": 2
}
