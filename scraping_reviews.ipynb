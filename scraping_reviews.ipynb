{
 "cells": [
  {
   "cell_type": "code",
   "execution_count": null,
   "metadata": {},
   "outputs": [],
   "source": [
    "import requests as rq\n",
    "import pandas as pd\n",
    "\n",
    "from bs4 import BeautifulSoup"
   ]
  },
  {
   "cell_type": "code",
   "execution_count": null,
   "metadata": {},
   "outputs": [],
   "source": [
    "all_reviews_dict = {}"
   ]
  },
  {
   "cell_type": "code",
   "execution_count": null,
   "metadata": {},
   "outputs": [
    {
     "name": "stdout",
     "output_type": "stream",
     "text": [
      "200\n"
     ]
    }
   ],
   "source": [
    "url = 'https://myanimelist.net/reviews.php?t=anime&filter_check=&filter_hide=&preliminary=on&spoiler=on&p=1'\n",
    "headers = {\n",
    "    'user-agent': 'Mozilla/5.0 (Windows NT 10.0; Win64; x64) AppleWebKit/537.36 (KHTML, like Gecko) Chrome/119.0.0.0 Safari/537.36',\n",
    "}\n",
    "page = rq.get(url, headers=headers)\n",
    "print(page.status_code)\n",
    "soup = BeautifulSoup(page.text, 'html.parser')"
   ]
  },
  {
   "cell_type": "code",
   "execution_count": null,
   "metadata": {},
   "outputs": [],
   "source": [
    "soup.find_all(attrs={\"class\": \"review-element js-review-element\"})"
   ]
  },
  {
   "cell_type": "code",
   "execution_count": null,
   "metadata": {},
   "outputs": [],
   "source": [
    "url_nopage = 'https://myanimelist.net/reviews.php?t=anime&filter_check=&filter_hide=&preliminary=on&spoiler=on&p='\n",
    "page_num = 1\n",
    "url = url_nopage + str(page_num)\n",
    "page = rq.get(url, headers=headers)\n",
    "review_dict = {}\n",
    "\n",
    "while page.status_code == 200:\n",
    "    print(url)\n",
    "    soup = BeautifulSoup(page.text, 'html.parser')\n",
    "    for item in soup.find_all(attrs={\"class\": \"review-element js-review-element\"}):\n",
    "        try:\n",
    "            tag = item(attrs={\"class\": \"tags\"})[0].get_text()\n",
    "            review = item(attrs={\"class\": \"text\"})[0].get_text()\n",
    "            rating = item(attrs={\"class\": \"num\"})[0].get_text()\n",
    "            review_dict[review] = (tag, rating)\n",
    "        except:\n",
    "            continue\n",
    "    page_num +=1\n",
    "    url = url_nopage + str(page_num)\n",
    "    page = rq.get(url, headers=headers)"
   ]
  },
  {
   "cell_type": "code",
   "execution_count": 27,
   "metadata": {},
   "outputs": [],
   "source": [
    "all_reviews_dict.update(review_dict)"
   ]
  },
  {
   "cell_type": "code",
   "execution_count": 28,
   "metadata": {},
   "outputs": [
    {
     "data": {
      "text/plain": [
       "241894"
      ]
     },
     "execution_count": 28,
     "metadata": {},
     "output_type": "execute_result"
    }
   ],
   "source": [
    "len(list(all_reviews_dict.items()))"
   ]
  },
  {
   "cell_type": "code",
   "execution_count": 30,
   "metadata": {},
   "outputs": [],
   "source": [
    "import pickle\n",
    "\n",
    "with open('all_reviews_dict.pkl', 'wb') as f:\n",
    "    pickle.dump(all_reviews_dict, f)"
   ]
  },
  {
   "cell_type": "code",
   "execution_count": 2,
   "metadata": {},
   "outputs": [],
   "source": [
    "import pickle\n",
    "\n",
    "with open('all_reviews_dict.pkl', 'rb') as f:\n",
    "    all_reviews = pickle.load(f)"
   ]
  },
  {
   "cell_type": "code",
   "execution_count": 6,
   "metadata": {},
   "outputs": [
    {
     "data": {
      "text/html": [
       "<div>\n",
       "<style scoped>\n",
       "    .dataframe tbody tr th:only-of-type {\n",
       "        vertical-align: middle;\n",
       "    }\n",
       "\n",
       "    .dataframe tbody tr th {\n",
       "        vertical-align: top;\n",
       "    }\n",
       "\n",
       "    .dataframe thead th {\n",
       "        text-align: right;\n",
       "    }\n",
       "</style>\n",
       "<table border=\"1\" class=\"dataframe\">\n",
       "  <thead>\n",
       "    <tr style=\"text-align: right;\">\n",
       "      <th></th>\n",
       "      <th>review</th>\n",
       "      <th>tag</th>\n",
       "      <th>rating</th>\n",
       "    </tr>\n",
       "  </thead>\n",
       "  <tbody>\n",
       "    <tr>\n",
       "      <th>0</th>\n",
       "      <td>\\n\\n\\n\\n\\n\\n                Full Metal Alchemi...</td>\n",
       "      <td>Recommended</td>\n",
       "      <td>9</td>\n",
       "    </tr>\n",
       "    <tr>\n",
       "      <th>1</th>\n",
       "      <td>\\n\\n\\n\\n\\n\\n                Sousou no Frieren ...</td>\n",
       "      <td>RecommendedPreliminary\\n                \\n    ...</td>\n",
       "      <td>10</td>\n",
       "    </tr>\n",
       "    <tr>\n",
       "      <th>2</th>\n",
       "      <td>\\n\\n\\n\\n\\n\\n                This show is about...</td>\n",
       "      <td>Mixed Feelings</td>\n",
       "      <td>7</td>\n",
       "    </tr>\n",
       "    <tr>\n",
       "      <th>3</th>\n",
       "      <td>\\n\\n\\n\\n\\n\\n                bUt hE MAde GraDua...</td>\n",
       "      <td>RecommendedSpoiler</td>\n",
       "      <td>9</td>\n",
       "    </tr>\n",
       "    <tr>\n",
       "      <th>4</th>\n",
       "      <td>\\n\\n\\n\\n\\n\\n                I knew going into ...</td>\n",
       "      <td>Recommended</td>\n",
       "      <td>8</td>\n",
       "    </tr>\n",
       "    <tr>\n",
       "      <th>...</th>\n",
       "      <td>...</td>\n",
       "      <td>...</td>\n",
       "      <td>...</td>\n",
       "    </tr>\n",
       "    <tr>\n",
       "      <th>241889</th>\n",
       "      <td>\\n\\n\\n\\n\\n\\n                A comedy/romance b...</td>\n",
       "      <td>Recommended</td>\n",
       "      <td>7</td>\n",
       "    </tr>\n",
       "    <tr>\n",
       "      <th>241890</th>\n",
       "      <td>\\n\\n\\n\\n\\n\\n                Saiyuki is one of ...</td>\n",
       "      <td>Recommended</td>\n",
       "      <td>9</td>\n",
       "    </tr>\n",
       "    <tr>\n",
       "      <th>241891</th>\n",
       "      <td>\\n\\n\\n\\n\\n\\n                First, let me say ...</td>\n",
       "      <td>Recommended</td>\n",
       "      <td>10</td>\n",
       "    </tr>\n",
       "    <tr>\n",
       "      <th>241892</th>\n",
       "      <td>\\n\\n\\n\\n\\n\\n                Utawarerumono mana...</td>\n",
       "      <td>Recommended</td>\n",
       "      <td>8</td>\n",
       "    </tr>\n",
       "    <tr>\n",
       "      <th>241893</th>\n",
       "      <td>\\n\\n\\n\\n\\n\\n                Cowboy Bebop is an...</td>\n",
       "      <td>Recommended</td>\n",
       "      <td>10</td>\n",
       "    </tr>\n",
       "  </tbody>\n",
       "</table>\n",
       "<p>241894 rows × 3 columns</p>\n",
       "</div>"
      ],
      "text/plain": [
       "                                                   review  \\\n",
       "0       \\n\\n\\n\\n\\n\\n                Full Metal Alchemi...   \n",
       "1       \\n\\n\\n\\n\\n\\n                Sousou no Frieren ...   \n",
       "2       \\n\\n\\n\\n\\n\\n                This show is about...   \n",
       "3       \\n\\n\\n\\n\\n\\n                bUt hE MAde GraDua...   \n",
       "4       \\n\\n\\n\\n\\n\\n                I knew going into ...   \n",
       "...                                                   ...   \n",
       "241889  \\n\\n\\n\\n\\n\\n                A comedy/romance b...   \n",
       "241890  \\n\\n\\n\\n\\n\\n                Saiyuki is one of ...   \n",
       "241891  \\n\\n\\n\\n\\n\\n                First, let me say ...   \n",
       "241892  \\n\\n\\n\\n\\n\\n                Utawarerumono mana...   \n",
       "241893  \\n\\n\\n\\n\\n\\n                Cowboy Bebop is an...   \n",
       "\n",
       "                                                      tag rating  \n",
       "0                                             Recommended      9  \n",
       "1       RecommendedPreliminary\\n                \\n    ...     10  \n",
       "2                                          Mixed Feelings      7  \n",
       "3                                      RecommendedSpoiler      9  \n",
       "4                                             Recommended      8  \n",
       "...                                                   ...    ...  \n",
       "241889                                        Recommended      7  \n",
       "241890                                        Recommended      9  \n",
       "241891                                        Recommended     10  \n",
       "241892                                        Recommended      8  \n",
       "241893                                        Recommended     10  \n",
       "\n",
       "[241894 rows x 3 columns]"
      ]
     },
     "execution_count": 6,
     "metadata": {},
     "output_type": "execute_result"
    }
   ],
   "source": [
    "df = pd.DataFrame(list(all_reviews.values()), columns=['tag', 'rating'], index = list(all_reviews.keys()))\n",
    "df.reset_index(inplace=True)\n",
    "df.rename(columns={'index': 'review'}, inplace=True)\n",
    "df"
   ]
  },
  {
   "cell_type": "code",
   "execution_count": 7,
   "metadata": {},
   "outputs": [],
   "source": [
    "df.to_csv('reviews.csv', sep=';', encoding='utf-8')"
   ]
  }
 ],
 "metadata": {
  "kernelspec": {
   "display_name": "Python 3.10.7 64-bit",
   "language": "python",
   "name": "python3"
  },
  "language_info": {
   "codemirror_mode": {
    "name": "ipython",
    "version": 3
   },
   "file_extension": ".py",
   "mimetype": "text/x-python",
   "name": "python",
   "nbconvert_exporter": "python",
   "pygments_lexer": "ipython3",
   "version": "3.10.7"
  },
  "orig_nbformat": 4,
  "vscode": {
   "interpreter": {
    "hash": "7689412e40d153df371c268745fbcdfa09ac06b8c7b45a25c8e6d10f76c0e4f2"
   }
  }
 },
 "nbformat": 4,
 "nbformat_minor": 2
}
